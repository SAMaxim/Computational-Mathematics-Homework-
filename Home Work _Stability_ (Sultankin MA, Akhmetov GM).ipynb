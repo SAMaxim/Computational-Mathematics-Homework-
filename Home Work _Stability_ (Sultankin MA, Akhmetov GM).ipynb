{
 "cells": [
  {
   "cell_type": "markdown",
   "metadata": {},
   "source": [
    "# Устойчивость (От Максима и Газиза)"
   ]
  },
  {
   "cell_type": "markdown",
   "metadata": {},
   "source": [
    "### Задача:"
   ]
  },
  {
   "cell_type": "markdown",
   "metadata": {},
   "source": [
    "#### На двумерной сетке задан шаблон в виде сдвигов индексов точек. Кроме того, даны коэффициенты численной схемы. Проверить схему на устойчивость/неустойчивость. Можно использовать библиотечные функции `numpy` и `scipy.optimize`."
   ]
  },
  {
   "cell_type": "markdown",
   "metadata": {},
   "source": [
    "#### Примечание: функция `numpy.polynomial.polynomial.polyroots` может оказаться крайне полезной."
   ]
  },
  {
   "cell_type": "markdown",
   "metadata": {},
   "source": [
    "### Подключение библиотек:"
   ]
  },
  {
   "cell_type": "code",
   "execution_count": 1,
   "metadata": {},
   "outputs": [],
   "source": [
    "import numpy as np\n",
    "import scipy as sp\n",
    "import matplotlib.pyplot as plt\n",
    "from itertools import groupby"
   ]
  },
  {
   "cell_type": "markdown",
   "metadata": {},
   "source": [
    "### Реализация кода:"
   ]
  },
  {
   "cell_type": "markdown",
   "metadata": {},
   "source": [
    "# $ u^n_j = \\lambda^n e^{i\\alpha j}$"
   ]
  },
  {
   "cell_type": "code",
   "execution_count": 63,
   "metadata": {},
   "outputs": [],
   "source": [
    "# Функция, высчитывающая многочлен для отдельного e^(i*альфа)\n",
    "def poly(equation, alpha):\n",
    "    return_equation = [0] * (abs(int(np.transpose(equation)[0][-1])) + 1)\n",
    "    num_zero = 0\n",
    "    k = 0\n",
    "    range_array = [el for el, _ in groupby(np.transpose(equation)[0])]\n",
    "    # range_array = range(len(return_equation))\n",
    "    for i in range_array:\n",
    "        while equation[num_zero][0] == i:\n",
    "            return_equation[k] += equation[num_zero][2] * np.exp(alpha*1j)**(equation[num_zero][1])\n",
    "            num_zero += 1\n",
    "            if num_zero > len(return_equation):\n",
    "                break\n",
    "        k += 1\n",
    "    return return_equation\n",
    "\n",
    "# Собственно, isStable, isn'tStable?\n",
    "def isStable(template, scheme):\n",
    "    # Рисуем схему\n",
    "    labels = [0] * len(template)\n",
    "    for i in range(len(template)):\n",
    "        if template[i][1] == 0:\n",
    "            labels[i] = \"(n\"\n",
    "        elif template[i][1] < 0:\n",
    "            labels[i] = \"(n - \" + str(-template[i][1])\n",
    "        else:\n",
    "            labels[i] = \"(n + \" + str(template[i][1])\n",
    "        if template[i][0] == 0:\n",
    "            labels[i] += \", j)\"\n",
    "        elif template[i][0] < 0:\n",
    "            labels[i] += \", j - \" + str(-template[i][0]) + \")\"\n",
    "        else:\n",
    "            labels[i] += \", j + \" + str(template[i][0]) + \")\"\n",
    "    labels = np.transpose(labels)\n",
    "    points = np.transpose(template)\n",
    "    for i, txt in enumerate(labels):\n",
    "        plt.annotate(txt, (points[0][i] + 0.03, points[1][i] + 0.03), fontsize = 12)\n",
    "    for i in range(len(points[0])):\n",
    "        for k in range(len(points[1])):\n",
    "            if points[1][i] == points[1][k] or points[0][i] == points[0][k]:\n",
    "                plt.plot([points[0][i], points[0][k]], [points[1][i], points[1][k]], c = \"red\")\n",
    "    plt.scatter(points[0], points[1], s = 160, c = \"red\")\n",
    "    plt.axis(\"equal\")\n",
    "    plt.axis(\"off\")\n",
    "    plt.show()\n",
    "    \n",
    "    # Делаем массив данных поудобнее\n",
    "    equation = [[0] * 3 for i in range(len(template))]\n",
    "    for i in range(len(equation)):\n",
    "        equation[i] = [template[i][1], template[i][0], scheme[i]]\n",
    "    equation.sort(key = lambda a: a[0])\n",
    "    \n",
    "    # Печатаем \"границы\" лямбды (её крайние значения)\n",
    "    lambda_answer = []\n",
    "    alpha_answer = []\n",
    "    for alpha in np.linspace(0 - 1, 2*np.pi + 1, 400): # Тут -1 и +1 для красоты\n",
    "        lambda_answer.append(np.polynomial.polynomial.polyroots(poly(equation, alpha)))\n",
    "        alpha_answer.append(alpha)\n",
    "    count = True\n",
    "    maximum = 0              \n",
    "    _, ax = plt.subplots()\n",
    "    for i in range(len(lambda_answer)):\n",
    "        for k in range(len(lambda_answer[i])):\n",
    "            ax.scatter(alpha_answer[i], abs(lambda_answer[i][k]), s = 10, c = \"blue\")\n",
    "            if abs(lambda_answer[i][k]) > 1:\n",
    "                count = False\n",
    "            if abs(lambda_answer[i][k]) > maximum:\n",
    "                maximum = abs(lambda_answer[i][k])\n",
    "    ax.set_xlabel(\"α\", fontsize = 20)\n",
    "    ax.set_ylabel(\"$\\lambda$\", fontsize = 20)\n",
    "    plt.ylim([-1, maximum + 1])\n",
    "    if count:\n",
    "        plt.fill_between(alpha_answer, [0] * len(alpha_answer), [1] * len(alpha_answer), color = \"green\", alpha = 0.2)\n",
    "        return True\n",
    "    else:\n",
    "        plt.fill_between(alpha_answer, [0] * len(alpha_answer), [1] * len(alpha_answer), color = \"red\", alpha = 0.2)\n",
    "        return False"
   ]
  },
  {
   "cell_type": "markdown",
   "metadata": {},
   "source": [
    "### Пример:"
   ]
  },
  {
   "cell_type": "code",
   "execution_count": 64,
   "metadata": {
    "scrolled": false
   },
   "outputs": [
    {
     "name": "stdout",
     "output_type": "stream",
     "text": [
      "C = 0.5\n"
     ]
    },
    {
     "data": {
      "image/png": "[encoded data removed]",
      "text/plain": [
       "<Figure size 432x288 with 1 Axes>"
      ]
     },
     "metadata": {
      "needs_background": "light"
     },
     "output_type": "display_data"
    },
    {
     "name": "stdout",
     "output_type": "stream",
     "text": [
      "System is Stable\n"
     ]
    },
    {
     "data": {
      "image/png": "[encoded data removed]",
      "text/plain": [
       "<Figure size 432x288 with 1 Axes>"
      ]
     },
     "metadata": {
      "needs_background": "light"
     },
     "output_type": "display_data"
    }
   ],
   "source": [
    "hx, ht = 1., 1.\n",
    "a = 0.5\n",
    "C = a * ht / hx\n",
    "print(\"C =\", C)\n",
    "scheme = (1/ht, -a/hx, a/hx - 1/ht)  #1, -1, 0\n",
    "template = (         (0, 1),\n",
    "            (-1, 0), (0, 0))\n",
    "\n",
    "stab = isStable(template, scheme)\n",
    "print(\"System is Stable\" if stab else \"System is Unstable\") # Stable"
   ]
  },
  {
   "cell_type": "markdown",
   "metadata": {},
   "source": [
    "### Пример 2:"
   ]
  },
  {
   "cell_type": "code",
   "execution_count": 65,
   "metadata": {
    "scrolled": false
   },
   "outputs": [
    {
     "name": "stdout",
     "output_type": "stream",
     "text": [
      "C = 1.0\n"
     ]
    },
    {
     "data": {
      "image/png": "[encoded data removed]",
      "text/plain": [
       "<Figure size 432x288 with 1 Axes>"
      ]
     },
     "metadata": {
      "needs_background": "light"
     },
     "output_type": "display_data"
    },
    {
     "name": "stdout",
     "output_type": "stream",
     "text": [
      "System is Unstable\n"
     ]
    },
    {
     "data": {
      "image/png": "[encoded data removed]",
      "text/plain": [
       "<Figure size 432x288 with 1 Axes>"
      ]
     },
     "metadata": {
      "needs_background": "light"
     },
     "output_type": "display_data"
    }
   ],
   "source": [
    "hx, ht = 1., 1.\n",
    "a = 1.\n",
    "C = a * ht / hx\n",
    "print(\"C =\", C)\n",
    "scheme = (1/ht, a/hx, -a/hx - 1/ht)\n",
    "template = ((1, 0), (0, 1), (0, 0))\n",
    "\n",
    "stab = isStable(template, scheme)\n",
    "print(\"System is Stable\" if stab else \"System is Unstable\") # Stable"
   ]
  },
  {
   "cell_type": "markdown",
   "metadata": {},
   "source": [
    "### Пример 3:"
   ]
  },
  {
   "cell_type": "code",
   "execution_count": 66,
   "metadata": {},
   "outputs": [
    {
     "name": "stdout",
     "output_type": "stream",
     "text": [
      "C = 0.5\n"
     ]
    },
    {
     "data": {
      "image/png": "[encoded data removed]",
      "text/plain": [
       "<Figure size 432x288 with 1 Axes>"
      ]
     },
     "metadata": {
      "needs_background": "light"
     },
     "output_type": "display_data"
    },
    {
     "name": "stdout",
     "output_type": "stream",
     "text": [
      "System is Unstable\n"
     ]
    },
    {
     "data": {
      "image/png": "[encoded data removed]",
      "text/plain": [
       "<Figure size 432x288 with 1 Axes>"
      ]
     },
     "metadata": {
      "needs_background": "light"
     },
     "output_type": "display_data"
    }
   ],
   "source": [
    "hx, ht = 1., 1.\n",
    "a = 0.5\n",
    "C = a * ht / hx\n",
    "print(\"C =\", C)\n",
    "scheme = (-1/(2*hx), -1/ht, 1/(2*hx), 1/ht) #1, -1, 0\n",
    "template = ((-1, 0),(0, 0),(1, 0),(0,1))\n",
    "\n",
    "stab = isStable(template, scheme)\n",
    "print(\"System is Stable\" if stab else \"System is Unstable\") # Stable"
   ]
  },
  {
   "cell_type": "code",
   "execution_count": 71,
   "metadata": {},
   "outputs": [
    {
     "name": "stdout",
     "output_type": "stream",
     "text": [
      "C = 0.25\n"
     ]
    },
    {
     "data": {
      "image/png": "[encoded data removed]",
      "text/plain": [
       "<Figure size 432x288 with 1 Axes>"
      ]
     },
     "metadata": {
      "needs_background": "light"
     },
     "output_type": "display_data"
    },
    {
     "name": "stdout",
     "output_type": "stream",
     "text": [
      "System is Stable\n"
     ]
    },
    {
     "data": {
      "image/png": "[encoded data removed]",
      "text/plain": [
       "<Figure size 432x288 with 1 Axes>"
      ]
     },
     "metadata": {
      "needs_background": "light"
     },
     "output_type": "display_data"
    }
   ],
   "source": [
    "hx, ht = 1., 1.\n",
    "a = 0.25\n",
    "C = a * ht / hx\n",
    "print(\"C =\", C)\n",
    "scheme = (-a/hx**2, -2/ht**2 + 2*a/hx**2, 1/ht**2, -a/hx**2, 1/ht**2) #1, -1, 0\n",
    "template = ((-1,0), (0,0), (1,0), (0,1), (0,-1))\n",
    "\n",
    "stab = isStable(template, scheme)\n",
    "print(\"System is Stable\" if stab else \"System is Unstable\") # Stable"
   ]
  },
  {
   "cell_type": "code",
   "execution_count": null,
   "metadata": {},
   "outputs": [],
   "source": []
  }
 ],
 "metadata": {
  "kernelspec": {
   "display_name": "Python 3",
   "language": "python",
   "name": "python3"
  },
  "language_info": {
   "codemirror_mode": {
    "name": "ipython",
    "version": 3
   },
   "file_extension": ".py",
   "mimetype": "text/x-python",
   "name": "python",
   "nbconvert_exporter": "python",
   "pygments_lexer": "ipython3",
   "version": "3.8.3"
  }
 },
 "nbformat": 4,
 "nbformat_minor": 4
}
