{
 "cells": [
  {
   "cell_type": "markdown",
   "metadata": {},
   "source": [
    "# Метод Адамса (явный)"
   ]
  },
  {
   "cell_type": "markdown",
   "metadata": {},
   "source": [
    "### Задача:"
   ]
  },
  {
   "cell_type": "markdown",
   "metadata": {},
   "source": [
    "#### Дано уравнение $ y'=f(x, y) $, где $ x $ - число, $ y $ - вектор, на отрезке $ x \\in [0, 1] $ с начальными условиями $ y(0) = y_0 $. Реализовать явный $ s $ - стадийный метод Адамса вида $ y_{n+1} = a_0*f_n + a_1*f_{n-1} + ... $. Найти решение задачи $ y' = (0, 0, ..., 1) $, $ y_0 = (0, 0, ..., 0) $ размерности $ N $. Шаг интегрирования - $ h $. Функция $ f $ заданна в Python."
   ]
  },
  {
   "cell_type": "markdown",
   "metadata": {},
   "source": [
    "### Подключение библиотек:"
   ]
  },
  {
   "cell_type": "code",
   "execution_count": 37,
   "metadata": {},
   "outputs": [],
   "source": [
    "import numpy as np\n",
    "import matplotlib.pyplot as plt\n",
    "from fractions import Fraction\n",
    "from IPython.display import display, Latex"
   ]
  },
  {
   "cell_type": "markdown",
   "metadata": {},
   "source": [
    "### Реализация кода:"
   ]
  },
  {
   "cell_type": "markdown",
   "metadata": {},
   "source": [
    "#### Функция, просчитывающая коэффициенты:"
   ]
  },
  {
   "cell_type": "code",
   "execution_count": 38,
   "metadata": {},
   "outputs": [],
   "source": [
    "def Adams_coef(s):\n",
    "    a = [[0] * s for i in range(s)]\n",
    "    a[0][s-1] = 1\n",
    "    b = np.ones(s)\n",
    "    for i in range(s):\n",
    "        for k in range(s - 1):\n",
    "            a[i][k] = (i + 1) * (1 - s + k)**i\n",
    "    answer = np.linalg.solve(a, b)\n",
    "        \n",
    "    return answer[::-1]"
   ]
  },
  {
   "cell_type": "markdown",
   "metadata": {},
   "source": [
    "#### Метод Адамса:"
   ]
  },
  {
   "cell_type": "code",
   "execution_count": 44,
   "metadata": {},
   "outputs": [],
   "source": [
    "def Adams(f, y_0, x, s):\n",
    "\n",
    "### Step 0: Объявление значений\n",
    "    \n",
    "    y = np.zeros([len(x), len(y_0)])\n",
    "    # y[0] = y_0\n",
    "    factors = Adams_coef(s)\n",
    "\n",
    "### Step 1: Эйлер\n",
    "\n",
    "    h = x[1] - x[0]\n",
    "    y[1] = y[0] + h*f(x[0], y[0]) ### Вот тут подправить\n",
    "    \n",
    "### Steps 2 to N-1: Адамс-Башфорт\n",
    "\n",
    "    for i, x_i in enumerate(x[(s-1):-1], start = 1):\n",
    "        h = x[i + 1] - x_i\n",
    "        y[i + 1] = y[i] + factors[0] * h * f(x_i, y[i])\n",
    "        for k in range(1, s):\n",
    "            y[i + 1] += factors[k] * h * f(x[i - k], y[i - k])\n",
    "\n",
    "    return y"
   ]
  },
  {
   "cell_type": "markdown",
   "metadata": {},
   "source": [
    "### Пример:"
   ]
  },
  {
   "cell_type": "markdown",
   "metadata": {},
   "source": [
    "#### Ввод функции $ f $ и начальных параметров:"
   ]
  },
  {
   "cell_type": "code",
   "execution_count": 40,
   "metadata": {},
   "outputs": [],
   "source": [
    "x_initial = [0, 1]\n",
    "y_0 = np.array([0., 0., 0.])\n",
    "\n",
    "def f(x, y):\n",
    "    return np.array([0., 0., 1.])"
   ]
  },
  {
   "cell_type": "code",
   "execution_count": 41,
   "metadata": {},
   "outputs": [],
   "source": [
    "x_initial = [0, 1]\n",
    "y_0 = np.array([1.])\n",
    "\n",
    "def f(x, y):\n",
    "    return y"
   ]
  },
  {
   "cell_type": "markdown",
   "metadata": {},
   "source": [
    "#### Инициализация $ s $:"
   ]
  },
  {
   "cell_type": "code",
   "execution_count": 45,
   "metadata": {},
   "outputs": [
    {
     "name": "stdout",
     "output_type": "stream",
     "text": [
      "Введите 'глубину' метода: 3\n",
      "\n",
      "Получившиеся коэффициенты  3 -стадийного метода Адамса:\n"
     ]
    },
    {
     "data": {
      "text/latex": [
       "$y_{i+1} = y_{i} + h[$$\\frac{23}{12}$f($x_{i}, y_{i}$)$-$$\\frac{4}{3}$f($x_{i-1}, y_{i-1}$)$+$$\\frac{5}{12}$f($x_{i-2}, y_{i-2}$)]"
      ],
      "text/plain": [
       "<IPython.core.display.Latex object>"
      ]
     },
     "metadata": {},
     "output_type": "display_data"
    }
   ],
   "source": [
    "print(\"Введите 'глубину' метода:\", end = ' ')\n",
    "s = int(input())\n",
    "print()\n",
    "\n",
    "answer = Adams_coef(s)\n",
    "print(\"Получившиеся коэффициенты \", s, \"-стадийного метода Адамса:\")\n",
    "c = f\"$y_{{i+1}} = y_{{i}} + h[$\"\n",
    "a = Fraction(answer[0]).limit_denominator(10**s)\n",
    "c += f\"$\\\\frac{{{a.numerator}}}{{{a.denominator}}}$\"\n",
    "c += \"f(\" + f\"$x_{{i}}, y_{{i}}$\" + \")\"\n",
    "for i in range(1, s):\n",
    "    a = Fraction(answer[i]).limit_denominator(10**s)\n",
    "    if (i % 2 == 0):\n",
    "        c += f\"$+$\"\n",
    "    else:\n",
    "        c += f\"$-$\"\n",
    "    c += f\"$\\\\frac{{{abs(a.numerator)}}}{{{a.denominator}}}$\"\n",
    "    c += \"f(\" + f\"$x_{{i-{i}}}, y_{{i-{i}}}$\" + \")\"\n",
    "c += \"]\"\n",
    "\n",
    "display(Latex(c))"
   ]
  },
  {
   "cell_type": "markdown",
   "metadata": {},
   "source": [
    "### Метод Адамса:"
   ]
  },
  {
   "cell_type": "code",
   "execution_count": 46,
   "metadata": {},
   "outputs": [
    {
     "data": {
      "image/png": "[encoded data removed]",
      "text/plain": [
       "<Figure size 864x504 with 1 Axes>"
      ]
     },
     "metadata": {
      "needs_background": "light"
     },
     "output_type": "display_data"
    }
   ],
   "source": [
    "num_steps = 20\n",
    "x = np.linspace(x_initial[0], x_initial[1], num_steps)\n",
    "\n",
    "plt.figure(figsize = (12, 7))\n",
    "\n",
    "y = Adams(f, y_0, x, s)\n",
    "_ = plt.plot(x, y, '-o', label = str(s) + \" steps\")\n",
    "\n",
    "y_known = np.exp(x)\n",
    "plt.plot(x, y_known, 'k--', label='known')\n",
    "plt.xlabel('$x$'), plt.ylabel('$y$')\n",
    "\n",
    "_ = plt.legend(loc = 2)"
   ]
  },
  {
   "cell_type": "code",
   "execution_count": null,
   "metadata": {},
   "outputs": [],
   "source": []
  }
 ],
 "metadata": {
  "kernelspec": {
   "display_name": "Python 3",
   "language": "python",
   "name": "python3"
  },
  "language_info": {
   "codemirror_mode": {
    "name": "ipython",
    "version": 3
   },
   "file_extension": ".py",
   "mimetype": "text/x-python",
   "name": "python",
   "nbconvert_exporter": "python",
   "pygments_lexer": "ipython3",
   "version": "3.8.3"
  }
 },
 "nbformat": 4,
 "nbformat_minor": 4
}
